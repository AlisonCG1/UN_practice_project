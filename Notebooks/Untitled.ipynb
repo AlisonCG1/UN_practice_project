{
 "cells": [
  {
   "cell_type": "code",
   "execution_count": 15,
   "id": "6a03980f",
   "metadata": {},
   "outputs": [
    {
     "name": "stdout",
     "output_type": "stream",
     "text": [
      "Requirement already satisfied: jupyterthemes in /Users/alisoncordoba/opt/anaconda3/lib/python3.9/site-packages (0.20.0)\n",
      "Requirement already satisfied: jupyter-core in /Users/alisoncordoba/opt/anaconda3/lib/python3.9/site-packages (from jupyterthemes) (5.5.0)\n",
      "Requirement already satisfied: notebook>=5.6.0 in /Users/alisoncordoba/opt/anaconda3/lib/python3.9/site-packages (from jupyterthemes) (6.4.5)\n",
      "Requirement already satisfied: ipython>=5.4.1 in /Users/alisoncordoba/opt/anaconda3/lib/python3.9/site-packages (from jupyterthemes) (8.17.2)\n",
      "Requirement already satisfied: matplotlib>=1.4.3 in /Users/alisoncordoba/opt/anaconda3/lib/python3.9/site-packages (from jupyterthemes) (3.4.3)\n",
      "Requirement already satisfied: lesscpy>=0.11.2 in /Users/alisoncordoba/opt/anaconda3/lib/python3.9/site-packages (from jupyterthemes) (0.15.1)\n",
      "Requirement already satisfied: decorator in /Users/alisoncordoba/opt/anaconda3/lib/python3.9/site-packages (from ipython>=5.4.1->jupyterthemes) (5.1.1)\n",
      "Requirement already satisfied: jedi>=0.16 in /Users/alisoncordoba/opt/anaconda3/lib/python3.9/site-packages (from ipython>=5.4.1->jupyterthemes) (0.18.1)\n",
      "Requirement already satisfied: matplotlib-inline in /Users/alisoncordoba/opt/anaconda3/lib/python3.9/site-packages (from ipython>=5.4.1->jupyterthemes) (0.1.6)\n",
      "Requirement already satisfied: prompt-toolkit!=3.0.37,<3.1.0,>=3.0.30 in /Users/alisoncordoba/opt/anaconda3/lib/python3.9/site-packages (from ipython>=5.4.1->jupyterthemes) (3.0.36)\n",
      "Requirement already satisfied: pygments>=2.4.0 in /Users/alisoncordoba/opt/anaconda3/lib/python3.9/site-packages (from ipython>=5.4.1->jupyterthemes) (2.15.1)\n",
      "Requirement already satisfied: stack-data in /Users/alisoncordoba/opt/anaconda3/lib/python3.9/site-packages (from ipython>=5.4.1->jupyterthemes) (0.2.0)\n",
      "Requirement already satisfied: traitlets>=5 in /Users/alisoncordoba/opt/anaconda3/lib/python3.9/site-packages (from ipython>=5.4.1->jupyterthemes) (5.7.1)\n",
      "Requirement already satisfied: typing-extensions in /Users/alisoncordoba/opt/anaconda3/lib/python3.9/site-packages (from ipython>=5.4.1->jupyterthemes) (4.7.1)\n",
      "Requirement already satisfied: exceptiongroup in /Users/alisoncordoba/opt/anaconda3/lib/python3.9/site-packages (from ipython>=5.4.1->jupyterthemes) (1.0.4)\n",
      "Requirement already satisfied: pexpect>4.3 in /Users/alisoncordoba/opt/anaconda3/lib/python3.9/site-packages (from ipython>=5.4.1->jupyterthemes) (4.8.0)\n",
      "Requirement already satisfied: appnope in /Users/alisoncordoba/opt/anaconda3/lib/python3.9/site-packages (from ipython>=5.4.1->jupyterthemes) (0.1.2)\n",
      "Requirement already satisfied: ply in /Users/alisoncordoba/opt/anaconda3/lib/python3.9/site-packages (from lesscpy>=0.11.2->jupyterthemes) (3.11)\n",
      "Requirement already satisfied: cycler>=0.10 in /Users/alisoncordoba/opt/anaconda3/lib/python3.9/site-packages (from matplotlib>=1.4.3->jupyterthemes) (0.11.0)\n",
      "Requirement already satisfied: kiwisolver>=1.0.1 in /Users/alisoncordoba/opt/anaconda3/lib/python3.9/site-packages (from matplotlib>=1.4.3->jupyterthemes) (1.4.4)\n",
      "Requirement already satisfied: numpy>=1.16 in /Users/alisoncordoba/opt/anaconda3/lib/python3.9/site-packages (from matplotlib>=1.4.3->jupyterthemes) (1.20.3)\n",
      "Requirement already satisfied: pillow>=6.2.0 in /Users/alisoncordoba/opt/anaconda3/lib/python3.9/site-packages (from matplotlib>=1.4.3->jupyterthemes) (10.0.1)\n",
      "Requirement already satisfied: pyparsing>=2.2.1 in /Users/alisoncordoba/opt/anaconda3/lib/python3.9/site-packages (from matplotlib>=1.4.3->jupyterthemes) (3.0.9)\n",
      "Requirement already satisfied: python-dateutil>=2.7 in /Users/alisoncordoba/opt/anaconda3/lib/python3.9/site-packages (from matplotlib>=1.4.3->jupyterthemes) (2.8.2)\n",
      "Requirement already satisfied: jinja2 in /Users/alisoncordoba/opt/anaconda3/lib/python3.9/site-packages (from notebook>=5.6.0->jupyterthemes) (3.1.2)\n",
      "Requirement already satisfied: tornado>=6.1 in /Users/alisoncordoba/opt/anaconda3/lib/python3.9/site-packages (from notebook>=5.6.0->jupyterthemes) (6.3.3)\n",
      "Requirement already satisfied: pyzmq>=17 in /Users/alisoncordoba/opt/anaconda3/lib/python3.9/site-packages (from notebook>=5.6.0->jupyterthemes) (23.2.0)\n",
      "Requirement already satisfied: argon2-cffi in /Users/alisoncordoba/opt/anaconda3/lib/python3.9/site-packages (from notebook>=5.6.0->jupyterthemes) (21.3.0)\n",
      "Requirement already satisfied: ipython-genutils in /Users/alisoncordoba/opt/anaconda3/lib/python3.9/site-packages (from notebook>=5.6.0->jupyterthemes) (0.2.0)\n",
      "Requirement already satisfied: jupyter-client>=5.3.4 in /Users/alisoncordoba/opt/anaconda3/lib/python3.9/site-packages (from notebook>=5.6.0->jupyterthemes) (7.4.9)\n",
      "Requirement already satisfied: nbformat in /Users/alisoncordoba/opt/anaconda3/lib/python3.9/site-packages (from notebook>=5.6.0->jupyterthemes) (5.9.2)\n",
      "Requirement already satisfied: nbconvert in /Users/alisoncordoba/opt/anaconda3/lib/python3.9/site-packages (from notebook>=5.6.0->jupyterthemes) (7.10.0)\n",
      "Requirement already satisfied: ipykernel in /Users/alisoncordoba/opt/anaconda3/lib/python3.9/site-packages (from notebook>=5.6.0->jupyterthemes) (6.25.0)\n",
      "Requirement already satisfied: Send2Trash>=1.5.0 in /Users/alisoncordoba/opt/anaconda3/lib/python3.9/site-packages (from notebook>=5.6.0->jupyterthemes) (1.8.2)\n",
      "Requirement already satisfied: terminado>=0.8.3 in /Users/alisoncordoba/opt/anaconda3/lib/python3.9/site-packages (from notebook>=5.6.0->jupyterthemes) (0.17.1)\n",
      "Requirement already satisfied: prometheus-client in /Users/alisoncordoba/opt/anaconda3/lib/python3.9/site-packages (from notebook>=5.6.0->jupyterthemes) (0.14.1)\n",
      "Requirement already satisfied: platformdirs>=2.5 in /Users/alisoncordoba/opt/anaconda3/lib/python3.9/site-packages (from jupyter-core->jupyterthemes) (3.10.0)\n",
      "Requirement already satisfied: parso<0.9.0,>=0.8.0 in /Users/alisoncordoba/opt/anaconda3/lib/python3.9/site-packages (from jedi>=0.16->ipython>=5.4.1->jupyterthemes) (0.8.3)\n",
      "Requirement already satisfied: entrypoints in /Users/alisoncordoba/opt/anaconda3/lib/python3.9/site-packages (from jupyter-client>=5.3.4->notebook>=5.6.0->jupyterthemes) (0.4)\n",
      "Requirement already satisfied: nest-asyncio>=1.5.4 in /Users/alisoncordoba/opt/anaconda3/lib/python3.9/site-packages (from jupyter-client>=5.3.4->notebook>=5.6.0->jupyterthemes) (1.5.6)\n",
      "Requirement already satisfied: ptyprocess>=0.5 in /Users/alisoncordoba/opt/anaconda3/lib/python3.9/site-packages (from pexpect>4.3->ipython>=5.4.1->jupyterthemes) (0.7.0)\n",
      "Requirement already satisfied: wcwidth in /Users/alisoncordoba/opt/anaconda3/lib/python3.9/site-packages (from prompt-toolkit!=3.0.37,<3.1.0,>=3.0.30->ipython>=5.4.1->jupyterthemes) (0.2.5)\n",
      "Requirement already satisfied: six>=1.5 in /Users/alisoncordoba/opt/anaconda3/lib/python3.9/site-packages (from python-dateutil>=2.7->matplotlib>=1.4.3->jupyterthemes) (1.16.0)\n",
      "Requirement already satisfied: argon2-cffi-bindings in /Users/alisoncordoba/opt/anaconda3/lib/python3.9/site-packages (from argon2-cffi->notebook>=5.6.0->jupyterthemes) (21.2.0)\n",
      "Requirement already satisfied: comm>=0.1.1 in /Users/alisoncordoba/opt/anaconda3/lib/python3.9/site-packages (from ipykernel->notebook>=5.6.0->jupyterthemes) (0.1.2)\n",
      "Requirement already satisfied: debugpy>=1.6.5 in /Users/alisoncordoba/opt/anaconda3/lib/python3.9/site-packages (from ipykernel->notebook>=5.6.0->jupyterthemes) (1.6.7)\n",
      "Requirement already satisfied: packaging in /Users/alisoncordoba/opt/anaconda3/lib/python3.9/site-packages (from ipykernel->notebook>=5.6.0->jupyterthemes) (23.1)\n",
      "Requirement already satisfied: psutil in /Users/alisoncordoba/opt/anaconda3/lib/python3.9/site-packages (from ipykernel->notebook>=5.6.0->jupyterthemes) (5.9.0)\n",
      "Requirement already satisfied: MarkupSafe>=2.0 in /Users/alisoncordoba/opt/anaconda3/lib/python3.9/site-packages (from jinja2->notebook>=5.6.0->jupyterthemes) (2.1.1)\n",
      "Requirement already satisfied: beautifulsoup4 in /Users/alisoncordoba/opt/anaconda3/lib/python3.9/site-packages (from nbconvert->notebook>=5.6.0->jupyterthemes) (4.12.2)\n",
      "Requirement already satisfied: bleach!=5.0.0 in /Users/alisoncordoba/opt/anaconda3/lib/python3.9/site-packages (from nbconvert->notebook>=5.6.0->jupyterthemes) (4.1.0)\n",
      "Requirement already satisfied: defusedxml in /Users/alisoncordoba/opt/anaconda3/lib/python3.9/site-packages (from nbconvert->notebook>=5.6.0->jupyterthemes) (0.7.1)\n",
      "Requirement already satisfied: importlib-metadata>=3.6 in /Users/alisoncordoba/opt/anaconda3/lib/python3.9/site-packages (from nbconvert->notebook>=5.6.0->jupyterthemes) (6.0.0)\n",
      "Requirement already satisfied: jupyterlab-pygments in /Users/alisoncordoba/opt/anaconda3/lib/python3.9/site-packages (from nbconvert->notebook>=5.6.0->jupyterthemes) (0.2.2)\n",
      "Requirement already satisfied: mistune<4,>=2.0.3 in /Users/alisoncordoba/opt/anaconda3/lib/python3.9/site-packages (from nbconvert->notebook>=5.6.0->jupyterthemes) (2.0.4)\n",
      "Requirement already satisfied: nbclient>=0.5.0 in /Users/alisoncordoba/opt/anaconda3/lib/python3.9/site-packages (from nbconvert->notebook>=5.6.0->jupyterthemes) (0.8.0)\n",
      "Requirement already satisfied: pandocfilters>=1.4.1 in /Users/alisoncordoba/opt/anaconda3/lib/python3.9/site-packages (from nbconvert->notebook>=5.6.0->jupyterthemes) (1.5.0)\n",
      "Requirement already satisfied: tinycss2 in /Users/alisoncordoba/opt/anaconda3/lib/python3.9/site-packages (from nbconvert->notebook>=5.6.0->jupyterthemes) (1.2.1)\n",
      "Requirement already satisfied: fastjsonschema in /Users/alisoncordoba/opt/anaconda3/lib/python3.9/site-packages (from nbformat->notebook>=5.6.0->jupyterthemes) (2.16.2)\n",
      "Requirement already satisfied: jsonschema>=2.6 in /Users/alisoncordoba/opt/anaconda3/lib/python3.9/site-packages (from nbformat->notebook>=5.6.0->jupyterthemes) (4.19.2)\n",
      "Requirement already satisfied: executing in /Users/alisoncordoba/opt/anaconda3/lib/python3.9/site-packages (from stack-data->ipython>=5.4.1->jupyterthemes) (0.8.3)\n",
      "Requirement already satisfied: asttokens in /Users/alisoncordoba/opt/anaconda3/lib/python3.9/site-packages (from stack-data->ipython>=5.4.1->jupyterthemes) (2.0.5)\n",
      "Requirement already satisfied: pure-eval in /Users/alisoncordoba/opt/anaconda3/lib/python3.9/site-packages (from stack-data->ipython>=5.4.1->jupyterthemes) (0.2.2)\n",
      "Requirement already satisfied: webencodings in /Users/alisoncordoba/opt/anaconda3/lib/python3.9/site-packages (from bleach!=5.0.0->nbconvert->notebook>=5.6.0->jupyterthemes) (0.5.1)\n"
     ]
    },
    {
     "name": "stdout",
     "output_type": "stream",
     "text": [
      "Requirement already satisfied: zipp>=0.5 in /Users/alisoncordoba/opt/anaconda3/lib/python3.9/site-packages (from importlib-metadata>=3.6->nbconvert->notebook>=5.6.0->jupyterthemes) (3.11.0)\n",
      "Requirement already satisfied: attrs>=22.2.0 in /Users/alisoncordoba/opt/anaconda3/lib/python3.9/site-packages (from jsonschema>=2.6->nbformat->notebook>=5.6.0->jupyterthemes) (23.1.0)\n",
      "Requirement already satisfied: jsonschema-specifications>=2023.03.6 in /Users/alisoncordoba/opt/anaconda3/lib/python3.9/site-packages (from jsonschema>=2.6->nbformat->notebook>=5.6.0->jupyterthemes) (2023.7.1)\n",
      "Requirement already satisfied: referencing>=0.28.4 in /Users/alisoncordoba/opt/anaconda3/lib/python3.9/site-packages (from jsonschema>=2.6->nbformat->notebook>=5.6.0->jupyterthemes) (0.30.2)\n",
      "Requirement already satisfied: rpds-py>=0.7.1 in /Users/alisoncordoba/opt/anaconda3/lib/python3.9/site-packages (from jsonschema>=2.6->nbformat->notebook>=5.6.0->jupyterthemes) (0.10.6)\n",
      "Requirement already satisfied: cffi>=1.0.1 in /Users/alisoncordoba/opt/anaconda3/lib/python3.9/site-packages (from argon2-cffi-bindings->argon2-cffi->notebook>=5.6.0->jupyterthemes) (1.16.0)\n",
      "Requirement already satisfied: soupsieve>1.2 in /Users/alisoncordoba/opt/anaconda3/lib/python3.9/site-packages (from beautifulsoup4->nbconvert->notebook>=5.6.0->jupyterthemes) (2.5)\n",
      "Requirement already satisfied: pycparser in /Users/alisoncordoba/opt/anaconda3/lib/python3.9/site-packages (from cffi>=1.0.1->argon2-cffi-bindings->argon2-cffi->notebook>=5.6.0->jupyterthemes) (2.21)\n",
      "Note: you may need to restart the kernel to use updated packages.\n"
     ]
    }
   ],
   "source": [
    "pip install --upgrade jupyterthemes"
   ]
  },
  {
   "cell_type": "code",
   "execution_count": 17,
   "id": "96fa1971",
   "metadata": {},
   "outputs": [
    {
     "ename": "NameError",
     "evalue": "name 'l' is not defined",
     "output_type": "error",
     "traceback": [
      "\u001b[0;31m---------------------------------------------------------------------------\u001b[0m",
      "\u001b[0;31mNameError\u001b[0m                                 Traceback (most recent call last)",
      "Cell \u001b[0;32mIn[17], line 1\u001b[0m\n\u001b[0;32m----> 1\u001b[0m jt \u001b[38;5;241m-\u001b[39m\u001b[43ml\u001b[49m\n",
      "\u001b[0;31mNameError\u001b[0m: name 'l' is not defined"
     ]
    }
   ],
   "source": [
    "jt -l"
   ]
  }
 ],
 "metadata": {
  "kernelspec": {
   "display_name": "Python 3 (ipykernel)",
   "language": "python",
   "name": "python3"
  },
  "language_info": {
   "codemirror_mode": {
    "name": "ipython",
    "version": 3
   },
   "file_extension": ".py",
   "mimetype": "text/x-python",
   "name": "python",
   "nbconvert_exporter": "python",
   "pygments_lexer": "ipython3",
   "version": "3.9.18"
  }
 },
 "nbformat": 4,
 "nbformat_minor": 5
}
